{
 "cells": [
  {
   "cell_type": "code",
   "execution_count": 3,
   "metadata": {
    "collapsed": true
   },
   "outputs": [],
   "source": [
    "import findspark\n",
    "findspark.init()\n",
    "\n",
    "from pyspark.sql import SparkSession\n",
    "spark = SparkSession \\\n",
    "    .builder \\\n",
    "    .appName(\"Python Spark SQL basic example\") \\\n",
    "    .config(\"spark.some.config.option\", \"some-value\") \\\n",
    "    .getOrCreate()\n",
    "\n",
    "def read_jdbc(sparksession, urls, driver, tb_name, db_user, db_password):    \n",
    "    return sparksession.read.jdbc(\n",
    "        url=urls,\n",
    "        table=tb_name,\n",
    "        properties={\n",
    "            'driver': driver,\n",
    "            'user': db_user,\n",
    "            'password': db_password\n",
    "        }\n",
    "    )\n",
    "\n",
    "username = 'tasya'\n",
    "driver = 'com.mysql.jdbc.Driver'\n",
    "password =\"CloudPl@tform2\"            \n",
    "payload = {\n",
    "  \"sources\": [\n",
    "    {\n",
    "      \"type\": \"jdbc\",\n",
    "      \"url\": \"jdbc:mysql://cloud-platform-mysql.clshsikuwhsj.ap-southeast-1.rds.amazonaws.com:3306/db_data_integration\",\n",
    "      \"table\": \"tb_data_kategorisasi_fnb_non_fnb\",\n",
    "      \"column_key\": \"nama\"\n",
    "    },\n",
    "    {\n",
    "      \"type\": \"jdbc\",\n",
    "      \"url\": \"jdbc:mysql://cloud-platform-mysql.clshsikuwhsj.ap-southeast-1.rds.amazonaws.com:3306/db_data_integration\",\n",
    "      \"table\": \"tb_pol_food_and_beverage_dkibjn\",\n",
    "      \"column_key\": \"name\"\n",
    "    }\n",
    "  ],\n",
    "  \"output\": {\n",
    "    \"type\": \"jdbc\",\n",
    "    \"url\": \"jdbc:db_engine://db_url:db_port/db_name\",\n",
    "    \"table\": \"tb_name\",\n",
    "    \"column_key\": \"cl_name\"\n",
    "  }\n",
    "}"
   ]
  },
  {
   "cell_type": "code",
   "execution_count": 7,
   "metadata": {},
   "outputs": [],
   "source": [
    "sc = spark.sparkContext\n",
    "def read_orc(sparksession, urls):    \n",
    "    return sparksession.read.orc(urls)"
   ]
  },
  {
   "cell_type": "code",
   "execution_count": 8,
   "metadata": {},
   "outputs": [
    {
     "ename": "AttributeError",
     "evalue": "'SparkContext' object has no attribute 'hadoopConfiguration'",
     "output_type": "error",
     "traceback": [
      "\u001b[0;31m\u001b[0m",
      "\u001b[0;31mAttributeError\u001b[0mTraceback (most recent call last)",
      "\u001b[0;32m<ipython-input-8-c0436f10d4af>\u001b[0m in \u001b[0;36m<module>\u001b[0;34m()\u001b[0m\n\u001b[0;32m----> 1\u001b[0;31m \u001b[0msc\u001b[0m\u001b[0;34m.\u001b[0m\u001b[0mhadoopConfiguration\u001b[0m\u001b[0;34m.\u001b[0m\u001b[0mset\u001b[0m\u001b[0;34m(\u001b[0m\u001b[0;34m\"\"\u001b[0m\u001b[0;34m)\u001b[0m\u001b[0;34m\u001b[0m\u001b[0m\n\u001b[0m",
      "\u001b[0;31mAttributeError\u001b[0m: 'SparkContext' object has no attribute 'hadoopConfiguration'"
     ]
    }
   ],
   "source": []
  },
  {
   "cell_type": "code",
   "execution_count": null,
   "metadata": {
    "collapsed": true
   },
   "outputs": [],
   "source": []
  }
 ],
 "metadata": {
  "kernelspec": {
   "display_name": "Python 2",
   "language": "python",
   "name": "python2"
  }
 },
 "nbformat": 4,
 "nbformat_minor": 2
}
