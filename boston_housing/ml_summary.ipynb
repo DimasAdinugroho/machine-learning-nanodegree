{
 "cells": [
  {
   "cell_type": "markdown",
   "metadata": {},
   "source": [
    "# Projects\n",
    "\n",
    "* Boston Housing - Machine learning foundation\n",
    "* CharityML - Supervised\n",
    "* Customer Segment - Unsupervised\n",
    "* Smartcab - Reinforcement Learning\n",
    "* Deep Learning - image recognition\n",
    "\n",
    "\n",
    "## Statistic Refresher\n",
    "\n",
    "* Measures of Central Tendency: Mean, Median, Mode.\n",
    "* Variability of Data: Inter Quartile Range, Outliers, Standard Deviation, Bessel's Correction.\n",
    "\n",
    "## Data Refresher\n",
    "\n",
    "* Nature of Data: Types of data (numerical, categorical, time series, etc.)\n",
    "* Datasets and Questions: A thorough exercise on Enron Data where you can apply the previously learned concepts.\n"
   ]
  },
  {
   "cell_type": "markdown",
   "metadata": {},
   "source": [
    "## Evaluation Metrics\n",
    "\n",
    "Confusion Matrix:\n",
    "\n",
    "Matrix        | Diagnosed Sick      | Diagnosed Healthy   |\n",
    "------------- |:-------------------:| -------------------:|\n",
    "sick          | True Positive(1000) | False Negative (200)\n",
    "Healthy       | False Positive(800) |True Negative(8000)  \n",
    "\n",
    "Total = 1000 + 200 + 800 + 8000 = 10,000\n",
    "Accuracy = ( TP + TN )/ Total = 9,000/ 10,000\n",
    "\n",
    "Model tergantung dengan kasusnya, orang yang di diagnosa sakit, lebih buruk bila sakit tapi diagnosa sehat **(FN)**. Untuk kasus spam, lebih buruk bila email tidak spam tetapi malah spam **(FP)**.\n",
    "\n",
    "Precision = TP / (TP + FP) (kasus spam, harus mempunyai high precision)\n",
    "\n",
    "Recall = TP / (TP + FN) (kasus rumah sakit, harus mempunyai high recall)\n",
    "\n",
    "F1 Score merupakan nilai rata2 dari precision + recall. bisa juga disebut Harmonic Mean, dimana 2 * X * Y / (X + Y) selalu bernilai lebih rendah dari (X + Y) / 2. Lebih tepat dari mean\n",
    "\n",
    "Precision -------------F1 score --------------Recall\n",
    "\n",
    "\\begin{equation*}\n",
    "F1Score = 2 * \\frac{precision * recall}{(precision+recall)}\n",
    "\\end{equation*}\n",
    "\n",
    "F-beta merupakan sebuah nilai dimana nilai tersebut lebih condong ke arah precision atau recall.\n",
    "\n",
    "Precision ----F.05 Score-----F1 score ----F2 score-----Recall\n",
    "\n",
    "\n",
    "\\begin{equation*}\n",
    "F_\\beta Score = (1 + \\beta) * \\frac{precision * recall}{\\beta^2 (precision+recall)}\n",
    "\\end{equation*}\n",
    "\n",
    "Dimana:\n",
    "* F1 Score menggunakan Beta = 1.\n",
    "* Bila Beta = 0, kita dapet precision\n",
    "* Bila Beta = tak hingga, kita dapet recall\n",
    "\n",
    "\n",
    "ROC (Receiver Operating Characteristic) Curves adalah ukuran mengetahui bagusnya data yang diprediksi (sesuai dengan data asli) (perfect prediction), dihitung dengan menghitung nilai True Positive Rate dan False Positive Rate dari semua titik dan diplot kurvanya. Semakin sesuai dengan prediksi, maka ROC = bernilai 1, Bila modelnya random (accuracy = 0.5), maka ROC bernilai 0.5.\n",
    "\n",
    "\n",
    "**Regression Metrics**\n",
    "Untuk metrics diatas merupakan metrics untuk clasifikasi. Untuk regressi sendiri terdiri dari:\n",
    "* Mean Absolute Error\n",
    "* Mean Squared Error (MSE) (lebih bagus dari absolute error)\n",
    "* R2 Score (membandingkan nilai MSE dari model dengan nilai MSE dari simple model, atau rata2\n",
    "\n",
    "\\begin{equation*}\n",
    "R2 Score = 1 - \\frac{MSEmodel}{MSEsimple model}\n",
    "\\end{equation*}\n",
    "\n",
    "R2 score bernilai 0, maka modelnya jelek, bila bernilai mendekati 1, maka modelnya bagus\n",
    "\n",
    "\n"
   ]
  },
  {
   "cell_type": "markdown",
   "metadata": {
    "collapsed": true
   },
   "source": [
    "## Type of Errors\n",
    "\n",
    "There are two type of errors:\n",
    "\n",
    "* **Overcomplicating the problem** (overfit)\n",
    "The characteristic of overfit is does not do well on test set. This error is due variance (kebanyakan data atau model terlalu complex).\n",
    "\n",
    "* **Oversimplfying the problem**  (underfit)\n",
    "The characteristic of underfit is does not do well on training set. This error is due bias. (terlalu dikit datanya atau model terlalu simple)\n",
    "\n",
    "But never use testing data to training model. this is fixed by using cross validation.\n",
    "\n",
    "* K-cross validation: break data into K buckets. train the data k times. good if randomized (shuffle=True)\n",
    "\n",
    "We can see the underfit, perfect fit and overfit using `learning curve` function\n",
    "\n",
    "We can Pick the right model with the highes F1 score. "
   ]
  },
  {
   "cell_type": "code",
   "execution_count": null,
   "metadata": {
    "collapsed": true
   },
   "outputs": [],
   "source": []
  }
 ],
 "metadata": {
  "kernelspec": {
   "display_name": "Python 2",
   "language": "python",
   "name": "python2"
  },
  "language_info": {
   "codemirror_mode": {
    "name": "ipython",
    "version": 2
   },
   "file_extension": ".py",
   "mimetype": "text/x-python",
   "name": "python",
   "nbconvert_exporter": "python",
   "pygments_lexer": "ipython2",
   "version": "2.7.13"
  }
 },
 "nbformat": 4,
 "nbformat_minor": 2
}
